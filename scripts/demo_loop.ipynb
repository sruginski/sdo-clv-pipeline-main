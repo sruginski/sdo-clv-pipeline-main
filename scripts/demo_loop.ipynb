{
 "cells": [
  {
   "cell_type": "code",
   "execution_count": 6,
   "id": "23b91bd7",
   "metadata": {},
   "outputs": [
    {
     "name": "stdout",
     "output_type": "stream",
     "text": [
      "The autoreload extension is already loaded. To reload it, use:\n",
      "  %reload_ext autoreload\n"
     ]
    }
   ],
   "source": [
    "# automatically reload edited source code\n",
    "%load_ext autoreload\n",
    "%autoreload 2\n",
    "\n",
    "# external package imports\n",
    "import numpy as np\n",
    "import pandas as pd\n",
    "import os, pdb, glob, time, argparse\n",
    "from os.path import exists, split, isdir, getsize\n",
    "from sdo_clv_pipeline.sdo_plot import *\n",
    "\n",
    "# internal package imports\n",
    "from sdo_clv_pipeline.paths import root\n",
    "from sdo_clv_pipeline.sdo_io import *\n",
    "from sdo_clv_pipeline.sdo_process import *\n",
    "from sdo_clv_pipeline.sdo_io import * "
   ]
  },
  {
   "cell_type": "code",
   "execution_count": 7,
   "id": "cb43573c",
   "metadata": {},
   "outputs": [
    {
     "name": "stdout",
     "output_type": "stream",
     "text": [
      "/Users/mpalumbo/work/savannah/sdo-clv-pipeline/data\n",
      "File counts:\n",
      "CON: 1\n",
      "MAG: 1\n",
      "DOP: 1\n",
      "AIA: 1\n",
      "[datetime.datetime(2014, 1, 7, 4, 0)]\n",
      "['/Users/mpalumbo/work/savannah/sdo-clv-pipeline/data/hmi.Ic_720s.20140107_040000_TAI.continuum.fits']\n",
      "1\n"
     ]
    }
   ],
   "source": [
    "# returns four sorted lists with the path to each of the file types\n",
    "data_dir = os.path.abspath(os.path.join(os.getcwd(), \"..\", \"data\"))\n",
    "print(data_dir)\n",
    "con_files, mag_files, dop_files, aia_files = find_data(data_dir, \"2014\")\n",
    "print(con_files)\n",
    "print(len(con_files))\n",
    "# print(con_files)\n",
    "# print(mag_files)\n",
    "# print(dop_files)\n",
    "# print(aia_files)"
   ]
  },
  {
   "cell_type": "code",
   "execution_count": 8,
   "id": "d46cbe05",
   "metadata": {},
   "outputs": [
    {
     "name": "stdout",
     "output_type": "stream",
     "text": [
      "/Users/mpalumbo/work/savannah/sdo-clv-pipeline/data\n",
      "correct mag\n",
      "correct dop\n",
      "checking\n",
      "set to nan\n",
      "mask\n",
      "About to construct SunMask\n",
      "Entered SunMask.__init__\n"
     ]
    },
    {
     "data": {
      "image/png": "[encoded data removed]",
      "text/plain": [
       "<Figure size 640x480 with 2 Axes>"
      ]
     },
     "metadata": {},
     "output_type": "display_data"
    },
    {
     "name": "stdout",
     "output_type": "stream",
     "text": [
      "15\n",
      "5615.0\n"
     ]
    },
    {
     "ename": "ValueError",
     "evalue": "not enough values to unpack (expected 8, got 6)",
     "output_type": "error",
     "traceback": [
      "\u001b[31m---------------------------------------------------------------------------\u001b[39m",
      "\u001b[31mValueError\u001b[39m                                Traceback (most recent call last)",
      "\u001b[36mCell\u001b[39m\u001b[36m \u001b[39m\u001b[32mIn[8]\u001b[39m\u001b[32m, line 29\u001b[39m\n\u001b[32m     20\u001b[39m \u001b[38;5;28mprint\u001b[39m(data_dir)\n\u001b[32m     22\u001b[39m \u001b[38;5;66;03m# # create the SDOImage object instances\u001b[39;00m\n\u001b[32m     23\u001b[39m \u001b[38;5;66;03m# con = SDOImage(con_file)     # continuum, Relative HMI continuum intensity\u001b[39;00m\n\u001b[32m     24\u001b[39m \u001b[38;5;66;03m# mag = SDOImage(mag_file)     # magnetogram, magnetic field strength\u001b[39;00m\n\u001b[32m     25\u001b[39m \u001b[38;5;66;03m# dop = SDOImage(dop_file)     # Dopplergram, LOS velocity\u001b[39;00m\n\u001b[32m     26\u001b[39m \u001b[38;5;66;03m# aia = SDOImage(aia_file)     # AIA 1700 continuum filtergram, Relative 1700 Angstrom Continuum Intensity\u001b[39;00m\n\u001b[32m---> \u001b[39m\u001b[32m29\u001b[39m \u001b[43mprocess_data_set\u001b[49m\u001b[43m(\u001b[49m\n\u001b[32m     30\u001b[39m \u001b[43m\u001b[49m\u001b[43mcon_file\u001b[49m\u001b[43m,\u001b[49m\u001b[43m \u001b[49m\u001b[43mmag_file\u001b[49m\u001b[43m,\u001b[49m\u001b[43m \u001b[49m\u001b[43mdop_file\u001b[49m\u001b[43m,\u001b[49m\u001b[43m \u001b[49m\u001b[43maia_file\u001b[49m\u001b[43m,\u001b[49m\u001b[43m     \u001b[49m\n\u001b[32m     31\u001b[39m \u001b[43m\u001b[49m\u001b[43mmoat_vels\u001b[49m\u001b[43m,\u001b[49m\u001b[43m \u001b[49m\u001b[43mmoat_mags\u001b[49m\u001b[43m,\u001b[49m\u001b[43m \u001b[49m\u001b[43mmoat_ints\u001b[49m\u001b[43m,\u001b[49m\u001b[43m \u001b[49m\u001b[43mmoat_dilations\u001b[49m\u001b[43m,\u001b[49m\u001b[43m  \u001b[49m\n\u001b[32m     32\u001b[39m \u001b[43m\u001b[49m\u001b[43mmoat_thetas\u001b[49m\u001b[43m,\u001b[49m\u001b[43m \u001b[49m\u001b[43mmoat_areas\u001b[49m\u001b[43m,\u001b[49m\u001b[43m \u001b[49m\u001b[43mmoat_vals\u001b[49m\u001b[43m,\u001b[49m\u001b[43m \u001b[49m\u001b[43mcounter\u001b[49m\u001b[43m,\u001b[49m\u001b[43m       \u001b[49m\n\u001b[32m     33\u001b[39m \u001b[43m\u001b[49m\u001b[43mmoat_avg_vels\u001b[49m\u001b[43m,\u001b[49m\u001b[43m \u001b[49m\u001b[43msymbol\u001b[49m\u001b[43m,\u001b[49m\u001b[43m \u001b[49m\u001b[43mleft_moats\u001b[49m\u001b[43m,\u001b[49m\u001b[43m \u001b[49m\u001b[43mright_moats\u001b[49m\u001b[43m,\u001b[49m\n\u001b[32m     34\u001b[39m \u001b[43m\u001b[49m\u001b[43mmu_thresh\u001b[49m\u001b[43m=\u001b[49m\u001b[32;43m0.1\u001b[39;49m\u001b[43m,\u001b[49m\u001b[43m                            \u001b[49m\n\u001b[32m     35\u001b[39m \u001b[43m\u001b[49m\u001b[43mn_rings\u001b[49m\u001b[43m=\u001b[49m\u001b[32;43m10\u001b[39;49m\u001b[43m,\u001b[49m\n\u001b[32m     36\u001b[39m \u001b[43m\u001b[49m\u001b[43msuffix\u001b[49m\u001b[43m=\u001b[49m\u001b[38;5;28;43;01mNone\u001b[39;49;00m\u001b[43m,\u001b[49m\n\u001b[32m     37\u001b[39m \u001b[43m\u001b[49m\u001b[43mdatadir\u001b[49m\u001b[43m=\u001b[49m\u001b[43mdata_dir\u001b[49m\u001b[43m)\u001b[49m\n\u001b[32m     39\u001b[39m \u001b[38;5;66;03m# # do the coordinate transforms, etc.\u001b[39;00m\n\u001b[32m     40\u001b[39m \u001b[38;5;66;03m# dop.calc_geometry()\u001b[39;00m\n\u001b[32m     41\u001b[39m \u001b[38;5;66;03m# con.inherit_geometry(dop)\u001b[39;00m\n\u001b[32m   (...)\u001b[39m\u001b[32m     67\u001b[39m \n\u001b[32m     68\u001b[39m \u001b[38;5;66;03m# label_moats_on_sun(mask)\u001b[39;00m\n",
      "\u001b[36mFile \u001b[39m\u001b[32m<string>:16\u001b[39m, in \u001b[36mprocess_data_set\u001b[39m\u001b[34m(con_file, mag_file, dop_file, aia_file, moat_vels, moat_mags, moat_ints, moat_dilations, moat_thetas, moat_areas, moat_vals, counter, moat_avg_vels, symbol, left_moats, right_moats, mu_thresh, n_rings, suffix, datadir)\u001b[39m\n",
      "\u001b[36mFile \u001b[39m\u001b[32m~/work/savannah/sdo-clv-pipeline/sdo_clv_pipeline/sdo_process.py:91\u001b[39m, in \u001b[36mreduce_sdo_images\u001b[39m\u001b[34m(con_file, mag_file, dop_file, aia_file, moat_vels, moat_mags, moat_ints, moat_dilations, moat_thetas, moat_areas, moat_vals, counter, moat_avg_vels, symbol, left_moats, right_moats, mu_thresh, fit_cbs)\u001b[39m\n\u001b[32m     88\u001b[39m \u001b[38;5;66;03m# identify regions for thresholding\u001b[39;00m\n\u001b[32m     89\u001b[39m \u001b[38;5;66;03m# try:\u001b[39;00m\n\u001b[32m     90\u001b[39m \u001b[38;5;28mprint\u001b[39m(\u001b[33m\"\u001b[39m\u001b[33mAbout to construct SunMask\u001b[39m\u001b[33m\"\u001b[39m)\n\u001b[32m---> \u001b[39m\u001b[32m91\u001b[39m mask = \u001b[43mSunMask\u001b[49m\u001b[43m(\u001b[49m\u001b[43mcon\u001b[49m\u001b[43m,\u001b[49m\u001b[43m \u001b[49m\u001b[43mmag\u001b[49m\u001b[43m,\u001b[49m\u001b[43m \u001b[49m\u001b[43mdop\u001b[49m\u001b[43m,\u001b[49m\u001b[43m \u001b[49m\u001b[43maia\u001b[49m\u001b[43m,\u001b[49m\u001b[43m \u001b[49m\u001b[43mmoat_vels\u001b[49m\u001b[43m,\u001b[49m\u001b[43m \u001b[49m\u001b[43mmoat_mags\u001b[49m\u001b[43m,\u001b[49m\u001b[43m \u001b[49m\u001b[43mmoat_ints\u001b[49m\u001b[43m,\u001b[49m\u001b[43m \u001b[49m\u001b[43mmoat_dilations\u001b[49m\u001b[43m,\u001b[49m\u001b[43m \u001b[49m\u001b[43mmoat_thetas\u001b[49m\u001b[43m,\u001b[49m\u001b[43m \u001b[49m\u001b[43mmoat_areas\u001b[49m\u001b[43m,\u001b[49m\u001b[43m \u001b[49m\u001b[43mmoat_vals\u001b[49m\u001b[43m,\u001b[49m\u001b[43m \u001b[49m\u001b[43mcounter\u001b[49m\u001b[43m,\u001b[49m\u001b[43m \u001b[49m\u001b[43mmoat_avg_vels\u001b[49m\u001b[43m,\u001b[49m\u001b[43m \u001b[49m\u001b[43msymbol\u001b[49m\u001b[43m,\u001b[49m\u001b[43m \u001b[49m\u001b[43mleft_moats\u001b[49m\u001b[43m,\u001b[49m\u001b[43m \u001b[49m\u001b[43mright_moats\u001b[49m\u001b[43m)\u001b[49m\n\u001b[32m     92\u001b[39m mask.mask_low_mu(mu_thresh)\n\u001b[32m     93\u001b[39m \u001b[38;5;66;03m# except:\u001b[39;00m\n\u001b[32m     94\u001b[39m     \u001b[38;5;66;03m# print(\"\\t >>> Region identification failed, skipping \" + iso, flush=True)\u001b[39;00m\n\u001b[32m     95\u001b[39m     \u001b[38;5;66;03m# return None\u001b[39;00m\n",
      "\u001b[36mFile \u001b[39m\u001b[32m~/work/savannah/sdo-clv-pipeline/sdo_clv_pipeline/sdo_image.py:396\u001b[39m, in \u001b[36mSunMask.__init__\u001b[39m\u001b[34m(self, con, mag, dop, aia, moat_vels, moat_mags, moat_ints, moat_dilations, moat_thetas, moat_areas, moat_vals, counter, moat_avg_vels, symbol, left_moats, right_moats)\u001b[39m\n\u001b[32m    393\u001b[39m \u001b[38;5;28mself\u001b[39m.ff = np.nansum(\u001b[38;5;28mself\u001b[39m.w_active[con.mu >= con.mu_thresh]) / npix\n\u001b[32m    395\u001b[39m \u001b[38;5;66;03m# identify regions\u001b[39;00m\n\u001b[32m--> \u001b[39m\u001b[32m396\u001b[39m \u001b[38;5;28;43mself\u001b[39;49m\u001b[43m.\u001b[49m\u001b[43midentify_regions\u001b[49m\u001b[43m(\u001b[49m\u001b[43mcon\u001b[49m\u001b[43m,\u001b[49m\u001b[43m \u001b[49m\u001b[43mmag\u001b[49m\u001b[43m,\u001b[49m\u001b[43m \u001b[49m\u001b[43mdop\u001b[49m\u001b[43m,\u001b[49m\u001b[43m \u001b[49m\u001b[43maia\u001b[49m\u001b[43m,\u001b[49m\u001b[43m \u001b[49m\u001b[43mmoat_vels\u001b[49m\u001b[43m,\u001b[49m\u001b[43m \u001b[49m\u001b[43mmoat_mags\u001b[49m\u001b[43m,\u001b[49m\u001b[43m \u001b[49m\u001b[43mmoat_ints\u001b[49m\u001b[43m,\u001b[49m\u001b[43m \u001b[49m\u001b[43mmoat_dilations\u001b[49m\u001b[43m,\u001b[49m\u001b[43m \u001b[49m\u001b[43mmoat_thetas\u001b[49m\u001b[43m,\u001b[49m\u001b[43m \u001b[49m\u001b[43mmoat_areas\u001b[49m\u001b[43m,\u001b[49m\u001b[43m \u001b[49m\u001b[43mmoat_vals\u001b[49m\u001b[43m,\u001b[49m\u001b[43m \u001b[49m\u001b[43mcounter\u001b[49m\u001b[43m,\u001b[49m\u001b[43m \u001b[49m\u001b[43mmoat_avg_vels\u001b[49m\u001b[43m,\u001b[49m\u001b[43m \u001b[49m\u001b[43msymbol\u001b[49m\u001b[43m,\u001b[49m\u001b[43m \u001b[49m\u001b[43mleft_moats\u001b[49m\u001b[43m,\u001b[49m\u001b[43m \u001b[49m\u001b[43mright_moats\u001b[49m\u001b[43m)\u001b[49m\n\u001b[32m    398\u001b[39m \u001b[38;5;66;03m# get region fracs\u001b[39;00m\n\u001b[32m    399\u001b[39m \u001b[38;5;28mself\u001b[39m.umb_frac = np.nansum(\u001b[38;5;28mself\u001b[39m.is_umbra()) / npix\n",
      "\u001b[36mFile \u001b[39m\u001b[32m~/work/savannah/sdo-clv-pipeline/sdo_clv_pipeline/sdo_image.py:581\u001b[39m, in \u001b[36mSunMask.identify_regions\u001b[39m\u001b[34m(self, con, mag, dop, aia, moat_vels, moat_mags, moat_ints, moat_dilations, moat_thetas, moat_areas, moat_vals, counter, moat_avg_vels, symbol, left_moats, right_moats)\u001b[39m\n\u001b[32m    574\u001b[39m idx_new = np.logical_and(idx_new, \u001b[38;5;28mself\u001b[39m.regions != \u001b[32m1\u001b[39m)\n\u001b[32m    577\u001b[39m \u001b[38;5;66;03m# plt.imshow(idx_new) \u001b[39;00m\n\u001b[32m    578\u001b[39m \u001b[38;5;66;03m# plt.colorbar()\u001b[39;00m\n\u001b[32m    579\u001b[39m \u001b[38;5;66;03m# plt.show() # visualize that region\u001b[39;00m\n\u001b[32m--> \u001b[39m\u001b[32m581\u001b[39m dilation_arr, avg_vel_arr, avg_mag_arr, avg_int_arr, dilated_spots, moat_avg_vels, left_moats, right_moats = SunMask.plot_value(dilated_spots, \u001b[38;5;28mself\u001b[39m, dop, mag, con, idx_new, max_area, corners, no_corners, moat_avg_vels, symbol, left_moats, right_moats)\n\u001b[32m    583\u001b[39m vels.append(avg_vel_arr)\n\u001b[32m    584\u001b[39m moat_vels.append(avg_vel_arr)\n",
      "\u001b[31mValueError\u001b[39m: not enough values to unpack (expected 8, got 6)"
     ]
    }
   ],
   "source": [
    "moat_vels = []\n",
    "moat_mags = []\n",
    "moat_ints = []\n",
    "moat_dilations = []\n",
    "moat_areas = []\n",
    "moat_thetas = []\n",
    "moat_vals = []\n",
    "counter = -1\n",
    "moat_avg_vels = []\n",
    "symbol = []\n",
    "left_moats = []\n",
    "right_moats = []\n",
    "\n",
    "for i in range (0,1):\n",
    "    # define the paths where files live\n",
    "    con_file = os.path.join(data_dir, con_files[i])\n",
    "    mag_file = os.path.join(data_dir, mag_files[i])\n",
    "    dop_file = os.path.join(data_dir, dop_files[i])\n",
    "    aia_file = os.path.join(data_dir, aia_files[i])\n",
    "    print(data_dir)\n",
    "\n",
    "    # # create the SDOImage object instances\n",
    "    # con = SDOImage(con_file)     # continuum, Relative HMI continuum intensity\n",
    "    # mag = SDOImage(mag_file)     # magnetogram, magnetic field strength\n",
    "    # dop = SDOImage(dop_file)     # Dopplergram, LOS velocity\n",
    "    # aia = SDOImage(aia_file)     # AIA 1700 continuum filtergram, Relative 1700 Angstrom Continuum Intensity\n",
    "\n",
    "\n",
    "    process_data_set(\n",
    "    con_file, mag_file, dop_file, aia_file,     \n",
    "    moat_vels, moat_mags, moat_ints, moat_dilations,  \n",
    "    moat_thetas, moat_areas, moat_vals, counter,       \n",
    "    moat_avg_vels, symbol, left_moats, right_moats,\n",
    "    mu_thresh=0.1,                            \n",
    "    n_rings=10,\n",
    "    suffix=None,\n",
    "    datadir=data_dir)\n",
    "\n",
    "    # # do the coordinate transforms, etc.\n",
    "    # dop.calc_geometry()\n",
    "    # con.inherit_geometry(dop)\n",
    "    # mag.inherit_geometry(dop)\n",
    "\n",
    "    # aia.rescale_to_hmi(con) # reproject onto plate scale of HMI images\n",
    "\n",
    "    # # calculate the limb darkening correction\n",
    "    # con.calc_limb_darkening()\n",
    "    # aia.calc_limb_darkening()\n",
    "\n",
    "    # # correct magnetogram for foreshortening\n",
    "    # mag.correct_magnetogram()\n",
    "\n",
    "    # # calculate differential rot., meridional circ., obs. vel, grav. redshift, cbs\n",
    "    # dop.correct_dopplergram(fit_cbs=False)\n",
    "\n",
    "    # # set values to nan for mu less than mu_thresh\n",
    "    # mu_thresh = 0.1\n",
    "    # con.mask_low_mu(mu_thresh)\n",
    "    # dop.mask_low_mu(mu_thresh)\n",
    "    # mag.mask_low_mu(mu_thresh)\n",
    "    # aia.mask_low_mu(mu_thresh)\n",
    "\n",
    "    # counter += 1\n",
    "\n",
    "    # mask = SunMask(con, mag, dop, aia, moat_vels, moat_mags, moat_ints, moat_dilations, moat_thetas, moat_areas, moat_vals, counter, moat_avg_vels, symbol)\n",
    "    # mask.mask_low_mu(mu_thresh)\n",
    "\n",
    "    # label_moats_on_sun(mask)"
   ]
  },
  {
   "cell_type": "markdown",
   "id": "492efef1",
   "metadata": {},
   "source": []
  },
  {
   "cell_type": "code",
   "execution_count": null,
   "id": "1c23a594",
   "metadata": {},
   "outputs": [],
   "source": [
    "#plot_mask(mask)\n",
    "plt.imshow(mask.regions)\n"
   ]
  },
  {
   "cell_type": "code",
   "execution_count": null,
   "id": "b3c9a737",
   "metadata": {},
   "outputs": [],
   "source": []
  }
 ],
 "metadata": {
  "kernelspec": {
   "display_name": ".venv",
   "language": "python",
   "name": "python3"
  },
  "language_info": {
   "codemirror_mode": {
    "name": "ipython",
    "version": 3
   },
   "file_extension": ".py",
   "mimetype": "text/x-python",
   "name": "python",
   "nbconvert_exporter": "python",
   "pygments_lexer": "ipython3",
   "version": "3.11.6"
  }
 },
 "nbformat": 4,
 "nbformat_minor": 5
}
