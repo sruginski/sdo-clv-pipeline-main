{
 "cells": [
  {
   "cell_type": "code",
   "execution_count": 1,
   "id": "23b91bd7",
   "metadata": {},
   "outputs": [
    {
     "name": "stderr",
     "output_type": "stream",
     "text": [
      "c:\\Users\\srugi\\Documents\\sdo-clv-pipeline\\.venv\\Lib\\site-packages\\tqdm\\auto.py:21: TqdmWarning: IProgress not found. Please update jupyter and ipywidgets. See https://ipywidgets.readthedocs.io/en/stable/user_install.html\n",
      "  from .autonotebook import tqdm as notebook_tqdm\n"
     ]
    }
   ],
   "source": [
    "# automatically reload edited source code\n",
    "%load_ext autoreload\n",
    "%autoreload 2\n",
    "\n",
    "# external package imports\n",
    "import numpy as np\n",
    "import pandas as pd\n",
    "import os, pdb, glob, time, argparse\n",
    "from os.path import exists, split, isdir, getsize\n",
    "from sdo_clv_pipeline.sdo_plot import *\n",
    "\n",
    "# internal package imports\n",
    "from sdo_clv_pipeline.paths import root\n",
    "from sdo_clv_pipeline.sdo_io import *\n",
    "from sdo_clv_pipeline.sdo_process import *\n",
    "from sdo_clv_pipeline.sdo_io import * "
   ]
  },
  {
   "cell_type": "code",
   "execution_count": 2,
   "id": "cb43573c",
   "metadata": {},
   "outputs": [
    {
     "name": "stdout",
     "output_type": "stream",
     "text": [
      "c:\\Users\\srugi\\Documents\\sdo-clv-pipeline\\data\n",
      "File counts:\n",
      "CON: 10\n",
      "MAG: 10\n",
      "DOP: 10\n",
      "AIA: 11\n",
      "[datetime.datetime(2014, 1, 10, 0, 0), datetime.datetime(2014, 1, 7, 0, 0), datetime.datetime(2014, 1, 3, 0, 0), datetime.datetime(2014, 1, 5, 0, 0), datetime.datetime(2014, 1, 9, 0, 0), datetime.datetime(2014, 1, 6, 0, 0), datetime.datetime(2014, 1, 11, 0, 0), datetime.datetime(2014, 1, 4, 0, 0)]\n",
      "['c:\\\\Users\\\\srugi\\\\Documents\\\\sdo-clv-pipeline\\\\data\\\\hmi.ic_720s.20140103_000000_TAI.1.continuum.fits', 'c:\\\\Users\\\\srugi\\\\Documents\\\\sdo-clv-pipeline\\\\data\\\\hmi.ic_720s.20140104_000000_TAI.1.continuum.fits', 'c:\\\\Users\\\\srugi\\\\Documents\\\\sdo-clv-pipeline\\\\data\\\\hmi.ic_720s.20140105_000000_TAI.1.continuum.fits', 'c:\\\\Users\\\\srugi\\\\Documents\\\\sdo-clv-pipeline\\\\data\\\\hmi.ic_720s.20140106_000000_TAI.1.continuum.fits', 'c:\\\\Users\\\\srugi\\\\Documents\\\\sdo-clv-pipeline\\\\data\\\\hmi.ic_720s.20140107_000000_TAI.1.continuum.fits', 'c:\\\\Users\\\\srugi\\\\Documents\\\\sdo-clv-pipeline\\\\data\\\\hmi.ic_720s.20140109_000000_TAI.1.continuum.fits', 'c:\\\\Users\\\\srugi\\\\Documents\\\\sdo-clv-pipeline\\\\data\\\\hmi.ic_720s.20140110_000000_TAI.1.continuum.fits', 'c:\\\\Users\\\\srugi\\\\Documents\\\\sdo-clv-pipeline\\\\data\\\\hmi.ic_720s.20140111_000000_TAI.1.continuum.fits']\n",
      "8\n"
     ]
    }
   ],
   "source": [
    "# returns four sorted lists with the path to each of the file types\n",
    "data_dir = os.path.abspath(os.path.join(os.getcwd(), \"..\", \"data\"))\n",
    "print(data_dir)\n",
    "con_files, mag_files, dop_files, aia_files = find_data(data_dir, \"2014\")\n",
    "print(con_files)\n",
    "print(len(con_files))\n",
    "# print(con_files)\n",
    "# print(mag_files)\n",
    "# print(dop_files)\n",
    "# print(aia_files)"
   ]
  },
  {
   "cell_type": "code",
   "execution_count": 3,
   "id": "d46cbe05",
   "metadata": {},
   "outputs": [
    {
     "name": "stdout",
     "output_type": "stream",
     "text": [
      "c:\\Users\\srugi\\Documents\\sdo-clv-pipeline\\data\n"
     ]
    },
    {
     "ename": "MemoryError",
     "evalue": "Unable to allocate 128. MiB for an array with shape (4096, 4096) and data type float64",
     "output_type": "error",
     "traceback": [
      "\u001b[31m---------------------------------------------------------------------------\u001b[39m",
      "\u001b[31mMemoryError\u001b[39m                               Traceback (most recent call last)",
      "\u001b[36mCell\u001b[39m\u001b[36m \u001b[39m\u001b[32mIn[3]\u001b[39m\u001b[32m, line 29\u001b[39m\n\u001b[32m     20\u001b[39m \u001b[38;5;28mprint\u001b[39m(data_dir)\n\u001b[32m     22\u001b[39m \u001b[38;5;66;03m# # create the SDOImage object instances\u001b[39;00m\n\u001b[32m     23\u001b[39m \u001b[38;5;66;03m# con = SDOImage(con_file)     # continuum, Relative HMI continuum intensity\u001b[39;00m\n\u001b[32m     24\u001b[39m \u001b[38;5;66;03m# mag = SDOImage(mag_file)     # magnetogram, magnetic field strength\u001b[39;00m\n\u001b[32m     25\u001b[39m \u001b[38;5;66;03m# dop = SDOImage(dop_file)     # Dopplergram, LOS velocity\u001b[39;00m\n\u001b[32m     26\u001b[39m \u001b[38;5;66;03m# aia = SDOImage(aia_file)     # AIA 1700 continuum filtergram, Relative 1700 Angstrom Continuum Intensity\u001b[39;00m\n\u001b[32m---> \u001b[39m\u001b[32m29\u001b[39m \u001b[43mprocess_data_set\u001b[49m\u001b[43m(\u001b[49m\n\u001b[32m     30\u001b[39m \u001b[43m\u001b[49m\u001b[43mcon_file\u001b[49m\u001b[43m,\u001b[49m\u001b[43m \u001b[49m\u001b[43mmag_file\u001b[49m\u001b[43m,\u001b[49m\u001b[43m \u001b[49m\u001b[43mdop_file\u001b[49m\u001b[43m,\u001b[49m\u001b[43m \u001b[49m\u001b[43maia_file\u001b[49m\u001b[43m,\u001b[49m\u001b[43m     \u001b[49m\n\u001b[32m     31\u001b[39m \u001b[43m\u001b[49m\u001b[43mmoat_vels\u001b[49m\u001b[43m,\u001b[49m\u001b[43m \u001b[49m\u001b[43mmoat_mags\u001b[49m\u001b[43m,\u001b[49m\u001b[43m \u001b[49m\u001b[43mmoat_ints\u001b[49m\u001b[43m,\u001b[49m\u001b[43m \u001b[49m\u001b[43mmoat_dilations\u001b[49m\u001b[43m,\u001b[49m\u001b[43m  \u001b[49m\n\u001b[32m     32\u001b[39m \u001b[43m\u001b[49m\u001b[43mmoat_thetas\u001b[49m\u001b[43m,\u001b[49m\u001b[43m \u001b[49m\u001b[43mmoat_areas\u001b[49m\u001b[43m,\u001b[49m\u001b[43m \u001b[49m\u001b[43mmoat_vals\u001b[49m\u001b[43m,\u001b[49m\u001b[43m \u001b[49m\u001b[43mcounter\u001b[49m\u001b[43m,\u001b[49m\u001b[43m       \u001b[49m\n\u001b[32m     33\u001b[39m \u001b[43m\u001b[49m\u001b[43mmoat_avg_vels\u001b[49m\u001b[43m,\u001b[49m\u001b[43m \u001b[49m\u001b[43msymbol\u001b[49m\u001b[43m,\u001b[49m\u001b[43m \u001b[49m\u001b[43mleft_moats\u001b[49m\u001b[43m,\u001b[49m\u001b[43m \u001b[49m\u001b[43mright_moats\u001b[49m\u001b[43m,\u001b[49m\n\u001b[32m     34\u001b[39m \u001b[43m\u001b[49m\u001b[43mmu_thresh\u001b[49m\u001b[43m=\u001b[49m\u001b[32;43m0.1\u001b[39;49m\u001b[43m,\u001b[49m\u001b[43m                            \u001b[49m\n\u001b[32m     35\u001b[39m \u001b[43m\u001b[49m\u001b[43mn_rings\u001b[49m\u001b[43m=\u001b[49m\u001b[32;43m10\u001b[39;49m\u001b[43m,\u001b[49m\n\u001b[32m     36\u001b[39m \u001b[43m\u001b[49m\u001b[43msuffix\u001b[49m\u001b[43m=\u001b[49m\u001b[38;5;28;43;01mNone\u001b[39;49;00m\u001b[43m,\u001b[49m\n\u001b[32m     37\u001b[39m \u001b[43m\u001b[49m\u001b[43mdatadir\u001b[49m\u001b[43m=\u001b[49m\u001b[43mdata_dir\u001b[49m\u001b[43m)\u001b[49m\n\u001b[32m     39\u001b[39m \u001b[38;5;66;03m# # do the coordinate transforms, etc.\u001b[39;00m\n\u001b[32m     40\u001b[39m \u001b[38;5;66;03m# dop.calc_geometry()\u001b[39;00m\n\u001b[32m     41\u001b[39m \u001b[38;5;66;03m# con.inherit_geometry(dop)\u001b[39;00m\n\u001b[32m   (...)\u001b[39m\u001b[32m     67\u001b[39m \n\u001b[32m     68\u001b[39m \u001b[38;5;66;03m# label_moats_on_sun(mask)\u001b[39;00m\n",
      "\u001b[36mFile \u001b[39m\u001b[32m~\\Documents\\sdo-clv-pipeline\\sdo_clv_pipeline\\sdo_process.py:195\u001b[39m, in \u001b[36mprocess_data_set\u001b[39m\u001b[34m(con_file, mag_file, dop_file, aia_file, moat_vels, moat_mags, moat_ints, moat_dilations, moat_thetas, moat_areas, moat_vals, counter, moat_avg_vels, symbol, left_moats, right_moats, mu_thresh, n_rings, suffix, datadir)\u001b[39m\n\u001b[32m    190\u001b[39m             create_file(file)\n\u001b[32m    192\u001b[39m \u001b[38;5;66;03m# reduce the data set\u001b[39;00m\n\u001b[32m    193\u001b[39m \u001b[38;5;66;03m# try:\u001b[39;00m\n\u001b[32m    194\u001b[39m \u001b[38;5;66;03m### TODO: below lines fails\u001b[39;00m\n\u001b[32m--> \u001b[39m\u001b[32m195\u001b[39m con, mag, dop, aia, mask = \u001b[43mreduce_sdo_images\u001b[49m\u001b[43m(\u001b[49m\u001b[43mcon_file\u001b[49m\u001b[43m,\u001b[49m\u001b[43m \u001b[49m\u001b[43mmag_file\u001b[49m\u001b[43m,\u001b[49m\u001b[43m \u001b[49m\u001b[43mdop_file\u001b[49m\u001b[43m,\u001b[49m\u001b[43m \u001b[49m\n\u001b[32m    196\u001b[39m \u001b[43m                                                \u001b[49m\u001b[43maia_file\u001b[49m\u001b[43m,\u001b[49m\u001b[43m \u001b[49m\u001b[43mmoat_vels\u001b[49m\u001b[43m,\u001b[49m\u001b[43m \u001b[49m\u001b[43mmoat_mags\u001b[49m\u001b[43m,\u001b[49m\u001b[43m \u001b[49m\n\u001b[32m    197\u001b[39m \u001b[43m                                                \u001b[49m\u001b[43mmoat_ints\u001b[49m\u001b[43m,\u001b[49m\u001b[43m \u001b[49m\u001b[43mmoat_dilations\u001b[49m\u001b[43m,\u001b[49m\u001b[43m \u001b[49m\u001b[43mmoat_thetas\u001b[49m\u001b[43m,\u001b[49m\u001b[43m \u001b[49m\n\u001b[32m    198\u001b[39m \u001b[43m                                                \u001b[49m\u001b[43mmoat_areas\u001b[49m\u001b[43m,\u001b[49m\u001b[43m \u001b[49m\u001b[43mmoat_vals\u001b[49m\u001b[43m,\u001b[49m\u001b[43m \u001b[49m\u001b[43mcounter\u001b[49m\u001b[43m,\u001b[49m\u001b[43m \u001b[49m\n\u001b[32m    199\u001b[39m \u001b[43m                                                \u001b[49m\u001b[43mmoat_avg_vels\u001b[49m\u001b[43m,\u001b[49m\u001b[43m \u001b[49m\u001b[43msymbol\u001b[49m\u001b[43m,\u001b[49m\u001b[43m \u001b[49m\u001b[43mleft_moats\u001b[49m\u001b[43m,\u001b[49m\u001b[43m \u001b[49m\n\u001b[32m    200\u001b[39m \u001b[43m                                                \u001b[49m\u001b[43mright_moats\u001b[49m\u001b[43m)\u001b[49m\n\u001b[32m    201\u001b[39m \u001b[38;5;66;03m# except:\u001b[39;00m\n\u001b[32m    202\u001b[39m     \u001b[38;5;66;03m# return None\u001b[39;00m\n\u001b[32m    203\u001b[39m \n\u001b[32m    204\u001b[39m \u001b[38;5;66;03m# get the MJD of the obs\u001b[39;00m\n\u001b[32m    205\u001b[39m mjd = Time(con.date_obs).mjd\n",
      "\u001b[36mFile \u001b[39m\u001b[32m~\\Documents\\sdo-clv-pipeline\\sdo_clv_pipeline\\sdo_process.py:50\u001b[39m, in \u001b[36mreduce_sdo_images\u001b[39m\u001b[34m(con_file, mag_file, dop_file, aia_file, moat_vels, moat_mags, moat_ints, moat_dilations, moat_thetas, moat_areas, moat_vals, counter, moat_avg_vels, symbol, left_moats, right_moats, mu_thresh, fit_cbs)\u001b[39m\n\u001b[32m     47\u001b[39m     \u001b[38;5;28;01mreturn\u001b[39;00m \u001b[38;5;28;01mNone\u001b[39;00m\n\u001b[32m     49\u001b[39m \u001b[38;5;66;03m# calculate geometries\u001b[39;00m\n\u001b[32m---> \u001b[39m\u001b[32m50\u001b[39m \u001b[43mdop\u001b[49m\u001b[43m.\u001b[49m\u001b[43mcalc_geometry\u001b[49m\u001b[43m(\u001b[49m\u001b[43m)\u001b[49m\n\u001b[32m     51\u001b[39m con.inherit_geometry(dop)\n\u001b[32m     52\u001b[39m mag.inherit_geometry(dop)\n",
      "\u001b[36mFile \u001b[39m\u001b[32m~\\Documents\\sdo-clv-pipeline\\sdo_clv_pipeline\\sdo_image.py:97\u001b[39m, in \u001b[36mSDOImage.calc_geometry\u001b[39m\u001b[34m(self)\u001b[39m\n\u001b[32m     95\u001b[39m \u001b[38;5;66;03m# transform to other coordinate systems\u001b[39;00m\n\u001b[32m     96\u001b[39m hgs = hpc.transform_to(frames.HeliographicStonyhurst)\n\u001b[32m---> \u001b[39m\u001b[32m97\u001b[39m hcc = \u001b[43mhpc\u001b[49m\u001b[43m.\u001b[49m\u001b[43mtransform_to\u001b[49m\u001b[43m(\u001b[49m\u001b[43mframes\u001b[49m\u001b[43m.\u001b[49m\u001b[43mHeliocentric\u001b[49m\u001b[43m)\u001b[49m\n\u001b[32m     99\u001b[39m \u001b[38;5;66;03m# get cartesian and radial coordinates\u001b[39;00m\n\u001b[32m    100\u001b[39m \u001b[38;5;28mself\u001b[39m.xx = hcc.x\n",
      "\u001b[36mFile \u001b[39m\u001b[32mc:\\Users\\srugi\\Documents\\sdo-clv-pipeline\\.venv\\Lib\\site-packages\\astropy\\coordinates\\sky_coordinate.py:555\u001b[39m, in \u001b[36mSkyCoord.transform_to\u001b[39m\u001b[34m(self, frame, merge_attributes)\u001b[39m\n\u001b[32m    551\u001b[39m generic_frame = GenericFrame(frame_kwargs)\n\u001b[32m    553\u001b[39m \u001b[38;5;66;03m# Do the transformation, returning a coordinate frame of the desired\u001b[39;00m\n\u001b[32m    554\u001b[39m \u001b[38;5;66;03m# final type (not generic).\u001b[39;00m\n\u001b[32m--> \u001b[39m\u001b[32m555\u001b[39m new_coord = \u001b[43mtrans\u001b[49m\u001b[43m(\u001b[49m\u001b[38;5;28;43mself\u001b[39;49m\u001b[43m.\u001b[49m\u001b[43mframe\u001b[49m\u001b[43m,\u001b[49m\u001b[43m \u001b[49m\u001b[43mgeneric_frame\u001b[49m\u001b[43m)\u001b[49m\n\u001b[32m    557\u001b[39m \u001b[38;5;66;03m# Finally make the new SkyCoord object from the `new_coord` and\u001b[39;00m\n\u001b[32m    558\u001b[39m \u001b[38;5;66;03m# remaining frame_kwargs that are not frame_attributes in `new_coord`.\u001b[39;00m\n\u001b[32m    559\u001b[39m \u001b[38;5;28;01mfor\u001b[39;00m attr \u001b[38;5;129;01min\u001b[39;00m \u001b[38;5;28mset\u001b[39m(new_coord.frame_attributes) & \u001b[38;5;28mset\u001b[39m(frame_kwargs.keys()):\n",
      "\u001b[36mFile \u001b[39m\u001b[32mc:\\Users\\srugi\\Documents\\sdo-clv-pipeline\\.venv\\Lib\\site-packages\\astropy\\coordinates\\transformations\\composite.py:113\u001b[39m, in \u001b[36mCompositeTransform.__call__\u001b[39m\u001b[34m(self, fromcoord, toframe)\u001b[39m\n\u001b[32m    110\u001b[39m             frattrs[inter_frame_attr_nm] = attr\n\u001b[32m    112\u001b[39m     curr_toframe = t.tosys(**frattrs)\n\u001b[32m--> \u001b[39m\u001b[32m113\u001b[39m     curr_coord = \u001b[43mt\u001b[49m\u001b[43m(\u001b[49m\u001b[43mcurr_coord\u001b[49m\u001b[43m,\u001b[49m\u001b[43m \u001b[49m\u001b[43mcurr_toframe\u001b[49m\u001b[43m)\u001b[49m\n\u001b[32m    115\u001b[39m \u001b[38;5;66;03m# this is safe even in the case where self.transforms is empty, because\u001b[39;00m\n\u001b[32m    116\u001b[39m \u001b[38;5;66;03m# coordinate objects are immutable, so copying is not needed\u001b[39;00m\n\u001b[32m    117\u001b[39m \u001b[38;5;28;01mreturn\u001b[39;00m curr_coord\n",
      "\u001b[36mFile \u001b[39m\u001b[32mc:\\Users\\srugi\\Documents\\sdo-clv-pipeline\\.venv\\Lib\\site-packages\\astropy\\coordinates\\transformations\\function.py:175\u001b[39m, in \u001b[36mFunctionTransformWithFiniteDifference.__call__\u001b[39m\u001b[34m(self, fromcoord, toframe)\u001b[39m\n\u001b[32m    173\u001b[39m supcall = \u001b[38;5;28mself\u001b[39m.func\n\u001b[32m    174\u001b[39m \u001b[38;5;28;01mif\u001b[39;00m \u001b[38;5;129;01mnot\u001b[39;00m fromcoord.data.differentials:\n\u001b[32m--> \u001b[39m\u001b[32m175\u001b[39m     \u001b[38;5;28;01mreturn\u001b[39;00m \u001b[43msupcall\u001b[49m\u001b[43m(\u001b[49m\u001b[43mfromcoord\u001b[49m\u001b[43m,\u001b[49m\u001b[43m \u001b[49m\u001b[43mtoframe\u001b[49m\u001b[43m)\u001b[49m\n\u001b[32m    176\u001b[39m \u001b[38;5;66;03m# this is the finite difference case\u001b[39;00m\n\u001b[32m    178\u001b[39m \u001b[38;5;28;01mif\u001b[39;00m \u001b[38;5;28mcallable\u001b[39m(\u001b[38;5;28mself\u001b[39m.finite_difference_dt):\n",
      "\u001b[36mFile \u001b[39m\u001b[32mc:\\Users\\srugi\\Documents\\sdo-clv-pipeline\\.venv\\Lib\\site-packages\\sunpy\\coordinates\\_transformations.py:256\u001b[39m, in \u001b[36m_transformation_debug.<locals>.decorator.<locals>.wrapped_func\u001b[39m\u001b[34m(*args, **kwargs)\u001b[39m\n\u001b[32m    253\u001b[39m     \u001b[38;5;66;03m# Increment the layer level to increase the indentation for nested transformations\u001b[39;00m\n\u001b[32m    254\u001b[39m     _layer_level += \u001b[32m1\u001b[39m\n\u001b[32m--> \u001b[39m\u001b[32m256\u001b[39m result = \u001b[43mfunc\u001b[49m\u001b[43m(\u001b[49m\u001b[43m*\u001b[49m\u001b[43margs\u001b[49m\u001b[43m,\u001b[49m\u001b[43m \u001b[49m\u001b[43m*\u001b[49m\u001b[43m*\u001b[49m\u001b[43mkwargs\u001b[49m\u001b[43m)\u001b[49m\n\u001b[32m    258\u001b[39m \u001b[38;5;28;01mif\u001b[39;00m debug_output:\n\u001b[32m    259\u001b[39m     \u001b[38;5;66;03m# Decrement the layer level\u001b[39;00m\n\u001b[32m    260\u001b[39m     _layer_level -= \u001b[32m1\u001b[39m\n",
      "\u001b[36mFile \u001b[39m\u001b[32mc:\\Users\\srugi\\Documents\\sdo-clv-pipeline\\.venv\\Lib\\site-packages\\sunpy\\coordinates\\_transformations.py:485\u001b[39m, in \u001b[36mhpc_to_hcc\u001b[39m\u001b[34m(heliopcoord, heliocframe)\u001b[39m\n\u001b[32m    483\u001b[39m \u001b[38;5;66;03m# Shift the origin from the observer to the Sun\u001b[39;00m\n\u001b[32m    484\u001b[39m distance = observer.radius\n\u001b[32m--> \u001b[39m\u001b[32m485\u001b[39m \u001b[43mnewrepr\u001b[49m\u001b[43m \u001b[49m\u001b[43m+\u001b[49m\u001b[43m=\u001b[49m\u001b[43m \u001b[49m\u001b[43mCartesianRepresentation\u001b[49m\u001b[43m(\u001b[49m\u001b[32;43m0\u001b[39;49m\u001b[43m*\u001b[49m\u001b[43mu\u001b[49m\u001b[43m.\u001b[49m\u001b[43mm\u001b[49m\u001b[43m,\u001b[49m\u001b[43m \u001b[49m\u001b[32;43m0\u001b[39;49m\u001b[43m*\u001b[49m\u001b[43mu\u001b[49m\u001b[43m.\u001b[49m\u001b[43mm\u001b[49m\u001b[43m,\u001b[49m\u001b[43m \u001b[49m\u001b[43mdistance\u001b[49m\u001b[43m)\u001b[49m\n\u001b[32m    487\u001b[39m \u001b[38;5;66;03m# Complete the conversion of HPC to HCC at the obstime and observer of the HPC coord\u001b[39;00m\n\u001b[32m    488\u001b[39m int_coord = Heliocentric(newrepr, obstime=observer.obstime, observer=observer)\n",
      "\u001b[36mFile \u001b[39m\u001b[32mc:\\Users\\srugi\\Documents\\sdo-clv-pipeline\\.venv\\Lib\\site-packages\\astropy\\coordinates\\representation\\base.py:543\u001b[39m, in \u001b[36mBaseRepresentationOrDifferential.__add__\u001b[39m\u001b[34m(self, other)\u001b[39m\n\u001b[32m    542\u001b[39m \u001b[38;5;28;01mdef\u001b[39;00m\u001b[38;5;250m \u001b[39m\u001b[34m__add__\u001b[39m(\u001b[38;5;28mself\u001b[39m, other):\n\u001b[32m--> \u001b[39m\u001b[32m543\u001b[39m     \u001b[38;5;28;01mreturn\u001b[39;00m \u001b[38;5;28;43mself\u001b[39;49m\u001b[43m.\u001b[49m\u001b[43m_combine_operation\u001b[49m\u001b[43m(\u001b[49m\u001b[43moperator\u001b[49m\u001b[43m.\u001b[49m\u001b[43madd\u001b[49m\u001b[43m,\u001b[49m\u001b[43m \u001b[49m\u001b[43mother\u001b[49m\u001b[43m)\u001b[49m\n",
      "\u001b[36mFile \u001b[39m\u001b[32mc:\\Users\\srugi\\Documents\\sdo-clv-pipeline\\.venv\\Lib\\site-packages\\astropy\\coordinates\\representation\\cartesian.py:210\u001b[39m, in \u001b[36mCartesianRepresentation._combine_operation\u001b[39m\u001b[34m(self, op, other, reverse)\u001b[39m\n\u001b[32m    207\u001b[39m     \u001b[38;5;28;01mreturn\u001b[39;00m \u001b[38;5;28mNotImplemented\u001b[39m\n\u001b[32m    209\u001b[39m first, second = (\u001b[38;5;28mself\u001b[39m, other_c) \u001b[38;5;28;01mif\u001b[39;00m \u001b[38;5;129;01mnot\u001b[39;00m reverse \u001b[38;5;28;01melse\u001b[39;00m (other_c, \u001b[38;5;28mself\u001b[39m)\n\u001b[32m--> \u001b[39m\u001b[32m210\u001b[39m \u001b[38;5;28;01mreturn\u001b[39;00m \u001b[38;5;28;43mself\u001b[39;49m\u001b[43m.\u001b[49m\u001b[34;43m__class__\u001b[39;49m\u001b[43m(\u001b[49m\n\u001b[32m    211\u001b[39m \u001b[43m    \u001b[49m\u001b[43m*\u001b[49m\u001b[43m(\u001b[49m\n\u001b[32m    212\u001b[39m \u001b[43m        \u001b[49m\u001b[43mop\u001b[49m\u001b[43m(\u001b[49m\u001b[38;5;28;43mgetattr\u001b[39;49m\u001b[43m(\u001b[49m\u001b[43mfirst\u001b[49m\u001b[43m,\u001b[49m\u001b[43m \u001b[49m\u001b[43mcomponent\u001b[49m\u001b[43m)\u001b[49m\u001b[43m,\u001b[49m\u001b[43m \u001b[49m\u001b[38;5;28;43mgetattr\u001b[39;49m\u001b[43m(\u001b[49m\u001b[43msecond\u001b[49m\u001b[43m,\u001b[49m\u001b[43m \u001b[49m\u001b[43mcomponent\u001b[49m\u001b[43m)\u001b[49m\u001b[43m)\u001b[49m\n\u001b[32m    213\u001b[39m \u001b[43m        \u001b[49m\u001b[38;5;28;43;01mfor\u001b[39;49;00m\u001b[43m \u001b[49m\u001b[43mcomponent\u001b[49m\u001b[43m \u001b[49m\u001b[38;5;129;43;01min\u001b[39;49;00m\u001b[43m \u001b[49m\u001b[43mfirst\u001b[49m\u001b[43m.\u001b[49m\u001b[43mcomponents\u001b[49m\n\u001b[32m    214\u001b[39m \u001b[43m    \u001b[49m\u001b[43m)\u001b[49m\n\u001b[32m    215\u001b[39m \u001b[43m\u001b[49m\u001b[43m)\u001b[49m\n",
      "\u001b[36mFile \u001b[39m\u001b[32mc:\\Users\\srugi\\Documents\\sdo-clv-pipeline\\.venv\\Lib\\site-packages\\astropy\\coordinates\\representation\\cartesian.py:100\u001b[39m, in \u001b[36mCartesianRepresentation.__init__\u001b[39m\u001b[34m(self, x, y, z, unit, xyz_axis, differentials, copy)\u001b[39m\n\u001b[32m     97\u001b[39m     z = u.Quantity(z, unit, copy=copy, subok=\u001b[38;5;28;01mTrue\u001b[39;00m)\n\u001b[32m     98\u001b[39m     copy = \u001b[38;5;28;01mFalse\u001b[39;00m\n\u001b[32m--> \u001b[39m\u001b[32m100\u001b[39m \u001b[38;5;28;43msuper\u001b[39;49m\u001b[43m(\u001b[49m\u001b[43m)\u001b[49m\u001b[43m.\u001b[49m\u001b[34;43m__init__\u001b[39;49m\u001b[43m(\u001b[49m\u001b[43mx\u001b[49m\u001b[43m,\u001b[49m\u001b[43m \u001b[49m\u001b[43my\u001b[49m\u001b[43m,\u001b[49m\u001b[43m \u001b[49m\u001b[43mz\u001b[49m\u001b[43m,\u001b[49m\u001b[43m \u001b[49m\u001b[43mcopy\u001b[49m\u001b[43m=\u001b[49m\u001b[43mcopy\u001b[49m\u001b[43m,\u001b[49m\u001b[43m \u001b[49m\u001b[43mdifferentials\u001b[49m\u001b[43m=\u001b[49m\u001b[43mdifferentials\u001b[49m\u001b[43m)\u001b[49m\n\u001b[32m    101\u001b[39m \u001b[38;5;28;01mif\u001b[39;00m \u001b[38;5;129;01mnot\u001b[39;00m (\n\u001b[32m    102\u001b[39m     \u001b[38;5;28mself\u001b[39m._x.unit.is_equivalent(\u001b[38;5;28mself\u001b[39m._y.unit)\n\u001b[32m    103\u001b[39m     \u001b[38;5;129;01mand\u001b[39;00m \u001b[38;5;28mself\u001b[39m._x.unit.is_equivalent(\u001b[38;5;28mself\u001b[39m._z.unit)\n\u001b[32m    104\u001b[39m ):\n\u001b[32m    105\u001b[39m     \u001b[38;5;28;01mraise\u001b[39;00m u.UnitsError(\u001b[33m\"\u001b[39m\u001b[33mx, y, and z should have matching physical types\u001b[39m\u001b[33m\"\u001b[39m)\n",
      "\u001b[36mFile \u001b[39m\u001b[32mc:\\Users\\srugi\\Documents\\sdo-clv-pipeline\\.venv\\Lib\\site-packages\\astropy\\coordinates\\representation\\base.py:724\u001b[39m, in \u001b[36mBaseRepresentation.__init__\u001b[39m\u001b[34m(self, differentials, *args, **kwargs)\u001b[39m\n\u001b[32m    722\u001b[39m \u001b[38;5;28;01mdef\u001b[39;00m\u001b[38;5;250m \u001b[39m\u001b[34m__init__\u001b[39m(\u001b[38;5;28mself\u001b[39m, *args, differentials=\u001b[38;5;28;01mNone\u001b[39;00m, **kwargs):\n\u001b[32m    723\u001b[39m     \u001b[38;5;66;03m# Handle any differentials passed in.\u001b[39;00m\n\u001b[32m--> \u001b[39m\u001b[32m724\u001b[39m     \u001b[38;5;28;43msuper\u001b[39;49m\u001b[43m(\u001b[49m\u001b[43m)\u001b[49m\u001b[43m.\u001b[49m\u001b[34;43m__init__\u001b[39;49m\u001b[43m(\u001b[49m\u001b[43m*\u001b[49m\u001b[43margs\u001b[49m\u001b[43m,\u001b[49m\u001b[43m \u001b[49m\u001b[43m*\u001b[49m\u001b[43m*\u001b[49m\u001b[43mkwargs\u001b[49m\u001b[43m)\u001b[49m\n\u001b[32m    725\u001b[39m     \u001b[38;5;28;01mif\u001b[39;00m differentials \u001b[38;5;129;01mis\u001b[39;00m \u001b[38;5;28;01mNone\u001b[39;00m \u001b[38;5;129;01mand\u001b[39;00m args \u001b[38;5;129;01mand\u001b[39;00m \u001b[38;5;28misinstance\u001b[39m(args[\u001b[32m0\u001b[39m], \u001b[38;5;28mself\u001b[39m.\u001b[34m__class__\u001b[39m):\n\u001b[32m    726\u001b[39m         differentials = args[\u001b[32m0\u001b[39m]._differentials\n",
      "\u001b[36mFile \u001b[39m\u001b[32mc:\\Users\\srugi\\Documents\\sdo-clv-pipeline\\.venv\\Lib\\site-packages\\astropy\\coordinates\\representation\\base.py:229\u001b[39m, in \u001b[36mBaseRepresentationOrDifferential.__init__\u001b[39m\u001b[34m(self, *args, **kwargs)\u001b[39m\n\u001b[32m    226\u001b[39m         \u001b[38;5;28;01mraise\u001b[39;00m \u001b[38;5;167;01mTypeError\u001b[39;00m(\u001b[33mf\u001b[39m\u001b[33m\"\u001b[39m\u001b[33munexpected keyword arguments: \u001b[39m\u001b[38;5;132;01m{\u001b[39;00mkwargs\u001b[38;5;132;01m}\u001b[39;00m\u001b[33m\"\u001b[39m)\n\u001b[32m    228\u001b[39m \u001b[38;5;66;03m# Pass attributes through the required initializing classes.\u001b[39;00m\n\u001b[32m--> \u001b[39m\u001b[32m229\u001b[39m attrs = \u001b[43m[\u001b[49m\n\u001b[32m    230\u001b[39m \u001b[43m    \u001b[49m\u001b[38;5;28;43mself\u001b[39;49m\u001b[43m.\u001b[49m\u001b[43mattr_classes\u001b[49m\u001b[43m[\u001b[49m\u001b[43mcomponent\u001b[49m\u001b[43m]\u001b[49m\u001b[43m(\u001b[49m\u001b[43mattr\u001b[49m\u001b[43m,\u001b[49m\u001b[43m \u001b[49m\u001b[43mcopy\u001b[49m\u001b[43m=\u001b[49m\u001b[43mcopy\u001b[49m\u001b[43m,\u001b[49m\u001b[43m \u001b[49m\u001b[43msubok\u001b[49m\u001b[43m=\u001b[49m\u001b[38;5;28;43;01mTrue\u001b[39;49;00m\u001b[43m)\u001b[49m\n\u001b[32m    231\u001b[39m \u001b[43m    \u001b[49m\u001b[38;5;28;43;01mfor\u001b[39;49;00m\u001b[43m \u001b[49m\u001b[43mcomponent\u001b[49m\u001b[43m,\u001b[49m\u001b[43m \u001b[49m\u001b[43mattr\u001b[49m\u001b[43m \u001b[49m\u001b[38;5;129;43;01min\u001b[39;49;00m\u001b[43m \u001b[49m\u001b[38;5;28;43mzip\u001b[39;49m\u001b[43m(\u001b[49m\u001b[43mcomponents\u001b[49m\u001b[43m,\u001b[49m\u001b[43m \u001b[49m\u001b[43mattrs\u001b[49m\u001b[43m)\u001b[49m\n\u001b[32m    232\u001b[39m \u001b[43m\u001b[49m\u001b[43m]\u001b[49m\n\u001b[32m    233\u001b[39m \u001b[38;5;28;01mtry\u001b[39;00m:\n\u001b[32m    234\u001b[39m     bc_attrs = np.broadcast_arrays(*attrs, subok=\u001b[38;5;28;01mTrue\u001b[39;00m)\n",
      "\u001b[36mFile \u001b[39m\u001b[32mc:\\Users\\srugi\\Documents\\sdo-clv-pipeline\\.venv\\Lib\\site-packages\\astropy\\coordinates\\representation\\base.py:230\u001b[39m, in \u001b[36m<listcomp>\u001b[39m\u001b[34m(.0)\u001b[39m\n\u001b[32m    226\u001b[39m         \u001b[38;5;28;01mraise\u001b[39;00m \u001b[38;5;167;01mTypeError\u001b[39;00m(\u001b[33mf\u001b[39m\u001b[33m\"\u001b[39m\u001b[33munexpected keyword arguments: \u001b[39m\u001b[38;5;132;01m{\u001b[39;00mkwargs\u001b[38;5;132;01m}\u001b[39;00m\u001b[33m\"\u001b[39m)\n\u001b[32m    228\u001b[39m \u001b[38;5;66;03m# Pass attributes through the required initializing classes.\u001b[39;00m\n\u001b[32m    229\u001b[39m attrs = [\n\u001b[32m--> \u001b[39m\u001b[32m230\u001b[39m     \u001b[38;5;28;43mself\u001b[39;49m\u001b[43m.\u001b[49m\u001b[43mattr_classes\u001b[49m\u001b[43m[\u001b[49m\u001b[43mcomponent\u001b[49m\u001b[43m]\u001b[49m\u001b[43m(\u001b[49m\u001b[43mattr\u001b[49m\u001b[43m,\u001b[49m\u001b[43m \u001b[49m\u001b[43mcopy\u001b[49m\u001b[43m=\u001b[49m\u001b[43mcopy\u001b[49m\u001b[43m,\u001b[49m\u001b[43m \u001b[49m\u001b[43msubok\u001b[49m\u001b[43m=\u001b[49m\u001b[38;5;28;43;01mTrue\u001b[39;49;00m\u001b[43m)\u001b[49m\n\u001b[32m    231\u001b[39m     \u001b[38;5;28;01mfor\u001b[39;00m component, attr \u001b[38;5;129;01min\u001b[39;00m \u001b[38;5;28mzip\u001b[39m(components, attrs)\n\u001b[32m    232\u001b[39m ]\n\u001b[32m    233\u001b[39m \u001b[38;5;28;01mtry\u001b[39;00m:\n\u001b[32m    234\u001b[39m     bc_attrs = np.broadcast_arrays(*attrs, subok=\u001b[38;5;28;01mTrue\u001b[39;00m)\n",
      "\u001b[36mFile \u001b[39m\u001b[32mc:\\Users\\srugi\\Documents\\sdo-clv-pipeline\\.venv\\Lib\\site-packages\\astropy\\units\\quantity.py:450\u001b[39m, in \u001b[36mQuantity.__new__\u001b[39m\u001b[34m(cls, value, unit, dtype, copy, order, subok, ndmin)\u001b[39m\n\u001b[32m    447\u001b[39m     \u001b[38;5;28;01mif\u001b[39;00m float_default \u001b[38;5;129;01mand\u001b[39;00m value.dtype.kind \u001b[38;5;129;01min\u001b[39;00m \u001b[33m\"\u001b[39m\u001b[33miu\u001b[39m\u001b[33m\"\u001b[39m:\n\u001b[32m    448\u001b[39m         dtype = \u001b[38;5;28mfloat\u001b[39m\n\u001b[32m--> \u001b[39m\u001b[32m450\u001b[39m     \u001b[38;5;28;01mreturn\u001b[39;00m np.array(\n\u001b[32m    451\u001b[39m         value, dtype=dtype, copy=copy, order=order, subok=\u001b[38;5;28;01mTrue\u001b[39;00m, ndmin=ndmin\n\u001b[32m    452\u001b[39m     )\n\u001b[32m    454\u001b[39m \u001b[38;5;66;03m# Maybe str, or list/tuple of Quantity? If so, this may set value_unit.\u001b[39;00m\n\u001b[32m    455\u001b[39m \u001b[38;5;66;03m# To ensure array remains fast, we short-circuit it.\u001b[39;00m\n\u001b[32m    456\u001b[39m value_unit = \u001b[38;5;28;01mNone\u001b[39;00m\n",
      "\u001b[31mMemoryError\u001b[39m: Unable to allocate 128. MiB for an array with shape (4096, 4096) and data type float64"
     ]
    }
   ],
   "source": [
    "moat_vels = []\n",
    "moat_mags = []\n",
    "moat_ints = []\n",
    "moat_dilations = []\n",
    "moat_areas = []\n",
    "moat_thetas = []\n",
    "moat_vals = []\n",
    "counter = -1\n",
    "moat_avg_vels = []\n",
    "symbol = []\n",
    "left_moats = []\n",
    "right_moats = []\n",
    "\n",
    "for i in range (0,1):\n",
    "    # define the paths where files live\n",
    "    con_file = os.path.join(data_dir, con_files[i])\n",
    "    mag_file = os.path.join(data_dir, mag_files[i])\n",
    "    dop_file = os.path.join(data_dir, dop_files[i])\n",
    "    aia_file = os.path.join(data_dir, aia_files[i])\n",
    "    print(data_dir)\n",
    "\n",
    "    # # create the SDOImage object instances\n",
    "    # con = SDOImage(con_file)     # continuum, Relative HMI continuum intensity\n",
    "    # mag = SDOImage(mag_file)     # magnetogram, magnetic field strength\n",
    "    # dop = SDOImage(dop_file)     # Dopplergram, LOS velocity\n",
    "    # aia = SDOImage(aia_file)     # AIA 1700 continuum filtergram, Relative 1700 Angstrom Continuum Intensity\n",
    "\n",
    "\n",
    "    process_data_set(\n",
    "    con_file, mag_file, dop_file, aia_file,     \n",
    "    moat_vels, moat_mags, moat_ints, moat_dilations,  \n",
    "    moat_thetas, moat_areas, moat_vals, counter,       \n",
    "    moat_avg_vels, symbol, left_moats, right_moats,\n",
    "    mu_thresh=0.1,                            \n",
    "    n_rings=10,\n",
    "    suffix=None,\n",
    "    datadir=data_dir)\n",
    "\n",
    "    # # do the coordinate transforms, etc.\n",
    "    # dop.calc_geometry()\n",
    "    # con.inherit_geometry(dop)\n",
    "    # mag.inherit_geometry(dop)\n",
    "\n",
    "    # aia.rescale_to_hmi(con) # reproject onto plate scale of HMI images\n",
    "\n",
    "    # # calculate the limb darkening correction\n",
    "    # con.calc_limb_darkening()\n",
    "    # aia.calc_limb_darkening()\n",
    "\n",
    "    # # correct magnetogram for foreshortening\n",
    "    # mag.correct_magnetogram()\n",
    "\n",
    "    # # calculate differential rot., meridional circ., obs. vel, grav. redshift, cbs\n",
    "    # dop.correct_dopplergram(fit_cbs=False)\n",
    "\n",
    "    # # set values to nan for mu less than mu_thresh\n",
    "    # mu_thresh = 0.1\n",
    "    # con.mask_low_mu(mu_thresh)\n",
    "    # dop.mask_low_mu(mu_thresh)\n",
    "    # mag.mask_low_mu(mu_thresh)\n",
    "    # aia.mask_low_mu(mu_thresh)\n",
    "\n",
    "    # counter += 1\n",
    "\n",
    "    # mask = SunMask(con, mag, dop, aia, moat_vels, moat_mags, moat_ints, moat_dilations, moat_thetas, moat_areas, moat_vals, counter, moat_avg_vels, symbol)\n",
    "    # mask.mask_low_mu(mu_thresh)\n",
    "\n",
    "    # label_moats_on_sun(mask)"
   ]
  },
  {
   "cell_type": "markdown",
   "id": "492efef1",
   "metadata": {},
   "source": []
  },
  {
   "cell_type": "code",
   "execution_count": null,
   "id": "1c23a594",
   "metadata": {},
   "outputs": [],
   "source": [
    "#plot_mask(mask)\n",
    "plt.imshow(mask.regions)\n"
   ]
  },
  {
   "cell_type": "code",
   "execution_count": null,
   "id": "b3c9a737",
   "metadata": {},
   "outputs": [],
   "source": []
  }
 ],
 "metadata": {
  "kernelspec": {
   "display_name": "sdo-clv-pipeline",
   "language": "python",
   "name": "python3"
  },
  "language_info": {
   "codemirror_mode": {
    "name": "ipython",
    "version": 3
   },
   "file_extension": ".py",
   "mimetype": "text/x-python",
   "name": "python",
   "nbconvert_exporter": "python",
   "pygments_lexer": "ipython3",
   "version": "3.11.6"
  }
 },
 "nbformat": 4,
 "nbformat_minor": 5
}
