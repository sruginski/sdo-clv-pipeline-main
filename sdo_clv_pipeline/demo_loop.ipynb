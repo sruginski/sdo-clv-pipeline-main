{
 "cells": [
  {
   "cell_type": "code",
   "execution_count": 17,
   "id": "23b91bd7",
   "metadata": {},
   "outputs": [
    {
     "name": "stdout",
     "output_type": "stream",
     "text": [
      "The autoreload extension is already loaded. To reload it, use:\n",
      "  %reload_ext autoreload\n"
     ]
    }
   ],
   "source": [
    "# automatically reload edited source code\n",
    "%load_ext autoreload\n",
    "%autoreload 2\n",
    "\n",
    "# external package imports\n",
    "import numpy as np\n",
    "import pandas as pd\n",
    "import os, pdb, glob, time, argparse\n",
    "from os.path import exists, split, isdir, getsize\n",
    "from sdo_clv_pipeline.sdo_plot import *\n",
    "\n",
    "# internal package imports\n",
    "from sdo_clv_pipeline.paths import root\n",
    "from sdo_clv_pipeline.sdo_io import *\n",
    "from sdo_clv_pipeline.sdo_process import *\n",
    "from sdo_clv_pipeline.sdo_io import * "
   ]
  },
  {
   "cell_type": "code",
   "execution_count": 18,
   "id": "cb43573c",
   "metadata": {},
   "outputs": [
    {
     "name": "stdout",
     "output_type": "stream",
     "text": [
      "File counts:\n",
      "CON: 10\n",
      "MAG: 10\n",
      "DOP: 10\n",
      "AIA: 11\n",
      "[datetime.datetime(2014, 1, 10, 0, 0), datetime.datetime(2014, 1, 11, 0, 0), datetime.datetime(2014, 1, 4, 0, 0), datetime.datetime(2014, 1, 3, 0, 0), datetime.datetime(2014, 1, 9, 0, 0), datetime.datetime(2014, 1, 6, 0, 0), datetime.datetime(2014, 1, 7, 0, 0), datetime.datetime(2014, 1, 5, 0, 0)]\n",
      "['c:\\\\Users\\\\srugi\\\\Documents\\\\sdo-clv-pipeline\\\\data\\\\hmi.ic_720s.20140103_000000_TAI.1.continuum.fits', 'c:\\\\Users\\\\srugi\\\\Documents\\\\sdo-clv-pipeline\\\\data\\\\hmi.ic_720s.20140104_000000_TAI.1.continuum.fits', 'c:\\\\Users\\\\srugi\\\\Documents\\\\sdo-clv-pipeline\\\\data\\\\hmi.ic_720s.20140105_000000_TAI.1.continuum.fits', 'c:\\\\Users\\\\srugi\\\\Documents\\\\sdo-clv-pipeline\\\\data\\\\hmi.ic_720s.20140106_000000_TAI.1.continuum.fits', 'c:\\\\Users\\\\srugi\\\\Documents\\\\sdo-clv-pipeline\\\\data\\\\hmi.ic_720s.20140107_000000_TAI.1.continuum.fits', 'c:\\\\Users\\\\srugi\\\\Documents\\\\sdo-clv-pipeline\\\\data\\\\hmi.ic_720s.20140109_000000_TAI.1.continuum.fits', 'c:\\\\Users\\\\srugi\\\\Documents\\\\sdo-clv-pipeline\\\\data\\\\hmi.ic_720s.20140110_000000_TAI.1.continuum.fits', 'c:\\\\Users\\\\srugi\\\\Documents\\\\sdo-clv-pipeline\\\\data\\\\hmi.ic_720s.20140111_000000_TAI.1.continuum.fits']\n",
      "8\n"
     ]
    }
   ],
   "source": [
    "# returns four sorted lists with the path to each of the file types\n",
    "data_dir = os.path.abspath(os.path.join(os.getcwd(), \"..\", \"data\"))\n",
    "con_files, mag_files, dop_files, aia_files = find_data(data_dir, \"2014\")\n",
    "print(con_files)\n",
    "print(len(con_files))\n",
    "# print(con_files)\n",
    "# print(mag_files)\n",
    "# print(dop_files)\n",
    "# print(aia_files)"
   ]
  },
  {
   "cell_type": "code",
   "execution_count": 21,
   "id": "d46cbe05",
   "metadata": {},
   "outputs": [
    {
     "name": "stdout",
     "output_type": "stream",
     "text": [
      "c:\\Users\\srugi\\Documents\\sdo-clv-pipeline\\data\n"
     ]
    }
   ],
   "source": [
    "moat_vels = []\n",
    "moat_mags = []\n",
    "moat_ints = []\n",
    "moat_dilations = []\n",
    "moat_areas = []\n",
    "moat_thetas = []\n",
    "moat_vals = []\n",
    "counter = -1\n",
    "moat_avg_vels = []\n",
    "symbol = []\n",
    "left_moats = []\n",
    "right_moats = []\n",
    "\n",
    "for i in range (0,1):\n",
    "    # define the paths where files live\n",
    "    con_file = os.path.join(data_dir, con_files[i])\n",
    "    mag_file = os.path.join(data_dir, mag_files[i])\n",
    "    dop_file = os.path.join(data_dir, dop_files[i])\n",
    "    aia_file = os.path.join(data_dir, aia_files[i])\n",
    "    print(data_dir)\n",
    "\n",
    "    # create the SDOImage object instances\n",
    "    con = SDOImage(con_file)     # continuum, Relative HMI continuum intensity\n",
    "    mag = SDOImage(mag_file)     # magnetogram, magnetic field strength\n",
    "    dop = SDOImage(dop_file)     # Dopplergram, LOS velocity\n",
    "    aia = SDOImage(aia_file)     # AIA 1700 continuum filtergram, Relative 1700 Angstrom Continuum Intensity\n",
    "\n",
    "\n",
    "    process_data_set(\n",
    "    con_file, mag_file, dop_file, aia_file,     \n",
    "    moat_vels, moat_mags, moat_ints, moat_dilations,  \n",
    "    moat_thetas, moat_areas, moat_vals, counter,       \n",
    "    moat_avg_vels, symbol, left_moats, right_moats,\n",
    "    mu_thresh=0.1,                            \n",
    "    n_rings=10,\n",
    "    suffix=None,\n",
    "    datadir=data_dir)\n",
    "\n",
    "    # # do the coordinate transforms, etc.\n",
    "    # dop.calc_geometry()\n",
    "    # con.inherit_geometry(dop)\n",
    "    # mag.inherit_geometry(dop)\n",
    "\n",
    "    # aia.rescale_to_hmi(con) # reproject onto plate scale of HMI images\n",
    "\n",
    "    # # calculate the limb darkening correction\n",
    "    # con.calc_limb_darkening()\n",
    "    # aia.calc_limb_darkening()\n",
    "\n",
    "    # # correct magnetogram for foreshortening\n",
    "    # mag.correct_magnetogram()\n",
    "\n",
    "    # # calculate differential rot., meridional circ., obs. vel, grav. redshift, cbs\n",
    "    # dop.correct_dopplergram(fit_cbs=False)\n",
    "\n",
    "    # # set values to nan for mu less than mu_thresh\n",
    "    # mu_thresh = 0.1\n",
    "    # con.mask_low_mu(mu_thresh)\n",
    "    # dop.mask_low_mu(mu_thresh)\n",
    "    # mag.mask_low_mu(mu_thresh)\n",
    "    # aia.mask_low_mu(mu_thresh)\n",
    "\n",
    "    # counter += 1\n",
    "\n",
    "    # mask = SunMask(con, mag, dop, aia, moat_vels, moat_mags, moat_ints, moat_dilations, moat_thetas, moat_areas, moat_vals, counter, moat_avg_vels, symbol)\n",
    "    # mask.mask_low_mu(mu_thresh)\n",
    "\n",
    "    # label_moats_on_sun(mask)"
   ]
  },
  {
   "cell_type": "markdown",
   "id": "492efef1",
   "metadata": {},
   "source": []
  },
  {
   "cell_type": "code",
   "execution_count": 4,
   "id": "1c23a594",
   "metadata": {},
   "outputs": [
    {
     "ename": "NameError",
     "evalue": "name 'mask' is not defined",
     "output_type": "error",
     "traceback": [
      "\u001b[31m---------------------------------------------------------------------------\u001b[39m",
      "\u001b[31mNameError\u001b[39m                                 Traceback (most recent call last)",
      "\u001b[36mCell\u001b[39m\u001b[36m \u001b[39m\u001b[32mIn[4]\u001b[39m\u001b[32m, line 2\u001b[39m\n\u001b[32m      1\u001b[39m \u001b[38;5;66;03m#plot_mask(mask)\u001b[39;00m\n\u001b[32m----> \u001b[39m\u001b[32m2\u001b[39m plt.imshow(\u001b[43mmask\u001b[49m.regions)\n",
      "\u001b[31mNameError\u001b[39m: name 'mask' is not defined"
     ]
    }
   ],
   "source": [
    "#plot_mask(mask)\n",
    "plt.imshow(mask.regions)\n"
   ]
  }
 ],
 "metadata": {
  "kernelspec": {
   "display_name": "sdo-clv-pipeline",
   "language": "python",
   "name": "python3"
  },
  "language_info": {
   "codemirror_mode": {
    "name": "ipython",
    "version": 3
   },
   "file_extension": ".py",
   "mimetype": "text/x-python",
   "name": "python",
   "nbconvert_exporter": "python",
   "pygments_lexer": "ipython3",
   "version": "3.11.6"
  }
 },
 "nbformat": 4,
 "nbformat_minor": 5
}
